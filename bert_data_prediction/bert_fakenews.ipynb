{
 "cells": [
  {
   "cell_type": "markdown",
   "metadata": {},
   "source": [
    "## Importing the relevant libraries"
   ]
  },
  {
   "cell_type": "code",
   "execution_count": null,
   "metadata": {
    "execution": {
     "iopub.execute_input": "2024-12-10T00:28:48.960895Z",
     "iopub.status.busy": "2024-12-10T00:28:48.959979Z",
     "iopub.status.idle": "2024-12-10T00:28:58.152373Z",
     "shell.execute_reply": "2024-12-10T00:28:58.151045Z",
     "shell.execute_reply.started": "2024-12-10T00:28:48.960862Z"
    },
    "trusted": true
   },
   "outputs": [],
   "source": [
    "!pip install wget --quiet\n"
   ]
  },
  {
   "cell_type": "code",
   "execution_count": null,
   "metadata": {
    "execution": {
     "iopub.execute_input": "2024-12-10T00:28:58.155767Z",
     "iopub.status.busy": "2024-12-10T00:28:58.154856Z",
     "iopub.status.idle": "2024-12-10T00:29:07.55717Z",
     "shell.execute_reply": "2024-12-10T00:29:07.555868Z",
     "shell.execute_reply.started": "2024-12-10T00:28:58.15571Z"
    },
    "trusted": true
   },
   "outputs": [],
   "source": [
    "!pip install tensorflow==2.10.0 --quiet"
   ]
  },
  {
   "cell_type": "code",
   "execution_count": 3,
   "metadata": {
    "execution": {
     "iopub.execute_input": "2024-12-10T00:29:07.558908Z",
     "iopub.status.busy": "2024-12-10T00:29:07.558604Z",
     "iopub.status.idle": "2024-12-10T00:29:12.690755Z",
     "shell.execute_reply": "2024-12-10T00:29:12.689821Z",
     "shell.execute_reply.started": "2024-12-10T00:29:07.558876Z"
    },
    "trusted": true
   },
   "outputs": [
    {
     "name": "stderr",
     "output_type": "stream",
     "text": [
      "2025-04-02 09:44:51.029912: I tensorflow/core/platform/cpu_feature_guard.cc:193] This TensorFlow binary is optimized with oneAPI Deep Neural Network Library (oneDNN) to use the following CPU instructions in performance-critical operations:  AVX2 FMA\n",
      "To enable them in other operations, rebuild TensorFlow with the appropriate compiler flags.\n",
      "2025-04-02 09:44:51.267501: W tensorflow/stream_executor/platform/default/dso_loader.cc:64] Could not load dynamic library 'libcudart.so.11.0'; dlerror: libcudart.so.11.0: cannot open shared object file: No such file or directory\n",
      "2025-04-02 09:44:51.267527: I tensorflow/stream_executor/cuda/cudart_stub.cc:29] Ignore above cudart dlerror if you do not have a GPU set up on your machine.\n",
      "2025-04-02 09:44:51.308626: E tensorflow/stream_executor/cuda/cuda_blas.cc:2981] Unable to register cuBLAS factory: Attempting to register factory for plugin cuBLAS when one has already been registered\n",
      "2025-04-02 09:44:52.392945: W tensorflow/stream_executor/platform/default/dso_loader.cc:64] Could not load dynamic library 'libnvinfer.so.7'; dlerror: libnvinfer.so.7: cannot open shared object file: No such file or directory\n",
      "2025-04-02 09:44:52.393109: W tensorflow/stream_executor/platform/default/dso_loader.cc:64] Could not load dynamic library 'libnvinfer_plugin.so.7'; dlerror: libnvinfer_plugin.so.7: cannot open shared object file: No such file or directory\n",
      "2025-04-02 09:44:52.393128: W tensorflow/compiler/tf2tensorrt/utils/py_utils.cc:38] TF-TRT Warning: Cannot dlopen some TensorRT libraries. If you would like to use Nvidia GPU with TensorRT, please make sure the missing libraries mentioned above are installed properly.\n",
      "[nltk_data] Downloading package stopwords to\n",
      "[nltk_data]     /home/wissem.abdeljaouad/nltk_data...\n",
      "[nltk_data]   Package stopwords is already up-to-date!\n"
     ]
    }
   ],
   "source": [
    "import numpy as np\n",
    "import pandas as pd\n",
    "import matplotlib.pyplot as plt\n",
    "import seaborn as sns\n",
    "import warnings, wget\n",
    "warnings.filterwarnings('ignore')\n",
    "from sklearn.metrics import confusion_matrix, classification_report, ConfusionMatrixDisplay, PrecisionRecallDisplay, RocCurveDisplay\n",
    "from sklearn.preprocessing import LabelEncoder\n",
    "import tensorflow as tf\n",
    "from tensorflow.keras.models import Model, load_model\n",
    "from tensorflow.keras.layers import Dense, Input, Dropout, Flatten, BatchNormalization\n",
    "from tensorflow.keras.optimizers import Adam\n",
    "from tensorflow.keras.callbacks import EarlyStopping, LearningRateScheduler, ModelCheckpoint\n",
    "from tensorflow.keras.utils import plot_model\n",
    "from tensorflow.keras.metrics import SparseCategoricalAccuracy\n",
    "from wordcloud import WordCloud\n",
    "wget.download(\"https://raw.githubusercontent.com/yogawicaksana/helper_prabowo/main/helper_prabowo_ml.py\",out=\"helper_prabowo_ml.py\")\n",
    "from helper_prabowo_ml import clean_html, punct, remove_digits, remove_links, remove_special_characters, remove_, removeStopWords, lower, email_address, non_ascii\n",
    "from transformers import AutoTokenizer, TFAutoModelForSequenceClassification"
   ]
  },
  {
   "cell_type": "markdown",
   "metadata": {},
   "source": [
    "## Loading the train, test and evaluation datasets"
   ]
  },
  {
   "cell_type": "code",
   "execution_count": null,
   "metadata": {
    "execution": {
     "iopub.execute_input": "2024-12-10T00:29:12.692621Z",
     "iopub.status.busy": "2024-12-10T00:29:12.692004Z",
     "iopub.status.idle": "2024-12-10T00:29:14.229465Z",
     "shell.execute_reply": "2024-12-10T00:29:14.228527Z",
     "shell.execute_reply.started": "2024-12-10T00:29:12.692589Z"
    },
    "trusted": true
   },
   "outputs": [],
   "source": [
    "train_df = pd.read_csv(\"data/train (2).csv\",delimiter=';')\n",
    "train_df.drop('Unnamed: 0',axis=1,inplace=True)\n",
    "train_df.head(5)"
   ]
  },
  {
   "cell_type": "code",
   "execution_count": null,
   "metadata": {
    "execution": {
     "iopub.execute_input": "2024-12-10T00:29:14.23211Z",
     "iopub.status.busy": "2024-12-10T00:29:14.231773Z",
     "iopub.status.idle": "2024-12-10T00:29:14.238244Z",
     "shell.execute_reply": "2024-12-10T00:29:14.237097Z",
     "shell.execute_reply.started": "2024-12-10T00:29:14.232079Z"
    },
    "trusted": true
   },
   "outputs": [],
   "source": [
    "train_df.shape"
   ]
  },
  {
   "cell_type": "code",
   "execution_count": null,
   "metadata": {
    "execution": {
     "iopub.execute_input": "2024-12-10T00:29:14.240003Z",
     "iopub.status.busy": "2024-12-10T00:29:14.239633Z",
     "iopub.status.idle": "2024-12-10T00:29:14.27006Z",
     "shell.execute_reply": "2024-12-10T00:29:14.269171Z",
     "shell.execute_reply.started": "2024-12-10T00:29:14.239964Z"
    },
    "trusted": true
   },
   "outputs": [],
   "source": [
    "train_df.info()"
   ]
  },
  {
   "cell_type": "code",
   "execution_count": null,
   "metadata": {
    "execution": {
     "iopub.execute_input": "2024-12-10T00:29:14.271349Z",
     "iopub.status.busy": "2024-12-10T00:29:14.271076Z",
     "iopub.status.idle": "2024-12-10T00:29:14.286679Z",
     "shell.execute_reply": "2024-12-10T00:29:14.28572Z",
     "shell.execute_reply.started": "2024-12-10T00:29:14.271323Z"
    },
    "trusted": true
   },
   "outputs": [],
   "source": [
    "train_df.describe()"
   ]
  },
  {
   "cell_type": "code",
   "execution_count": null,
   "metadata": {
    "execution": {
     "iopub.execute_input": "2024-12-10T00:29:14.288698Z",
     "iopub.status.busy": "2024-12-10T00:29:14.287972Z",
     "iopub.status.idle": "2024-12-10T00:29:14.301465Z",
     "shell.execute_reply": "2024-12-10T00:29:14.300605Z",
     "shell.execute_reply.started": "2024-12-10T00:29:14.288642Z"
    },
    "trusted": true
   },
   "outputs": [],
   "source": [
    "train_df.isna().sum()"
   ]
  },
  {
   "cell_type": "code",
   "execution_count": null,
   "metadata": {
    "execution": {
     "iopub.execute_input": "2024-12-10T00:29:14.303118Z",
     "iopub.status.busy": "2024-12-10T00:29:14.302734Z",
     "iopub.status.idle": "2024-12-10T00:29:14.494453Z",
     "shell.execute_reply": "2024-12-10T00:29:14.493536Z",
     "shell.execute_reply.started": "2024-12-10T00:29:14.303077Z"
    },
    "trusted": true
   },
   "outputs": [],
   "source": [
    "train_df.duplicated().sum()"
   ]
  },
  {
   "cell_type": "code",
   "execution_count": null,
   "metadata": {
    "execution": {
     "iopub.execute_input": "2024-12-10T00:29:14.496468Z",
     "iopub.status.busy": "2024-12-10T00:29:14.495802Z",
     "iopub.status.idle": "2024-12-10T00:29:14.654107Z",
     "shell.execute_reply": "2024-12-10T00:29:14.653069Z",
     "shell.execute_reply.started": "2024-12-10T00:29:14.496425Z"
    },
    "trusted": true
   },
   "outputs": [],
   "source": [
    "train_df = train_df.drop_duplicates()\n",
    "train_df.shape"
   ]
  },
  {
   "cell_type": "code",
   "execution_count": null,
   "metadata": {
    "execution": {
     "iopub.execute_input": "2024-12-10T00:29:14.655498Z",
     "iopub.status.busy": "2024-12-10T00:29:14.655186Z",
     "iopub.status.idle": "2024-12-10T00:29:15.223334Z",
     "shell.execute_reply": "2024-12-10T00:29:15.222274Z",
     "shell.execute_reply.started": "2024-12-10T00:29:14.655469Z"
    },
    "trusted": true
   },
   "outputs": [],
   "source": [
    "test_df = pd.read_csv('data/test (1).csv',delimiter=';')\n",
    "test_df.drop('Unnamed: 0',axis=1,inplace=True)\n",
    "test_df.head(3)"
   ]
  },
  {
   "cell_type": "code",
   "execution_count": null,
   "metadata": {
    "execution": {
     "iopub.execute_input": "2024-12-10T00:29:15.224766Z",
     "iopub.status.busy": "2024-12-10T00:29:15.224469Z",
     "iopub.status.idle": "2024-12-10T00:29:15.230643Z",
     "shell.execute_reply": "2024-12-10T00:29:15.229756Z",
     "shell.execute_reply.started": "2024-12-10T00:29:15.224736Z"
    },
    "trusted": true
   },
   "outputs": [],
   "source": [
    "test_df.shape"
   ]
  },
  {
   "cell_type": "code",
   "execution_count": null,
   "metadata": {
    "execution": {
     "iopub.execute_input": "2024-12-10T00:29:15.232698Z",
     "iopub.status.busy": "2024-12-10T00:29:15.232061Z",
     "iopub.status.idle": "2024-12-10T00:29:15.246207Z",
     "shell.execute_reply": "2024-12-10T00:29:15.245316Z",
     "shell.execute_reply.started": "2024-12-10T00:29:15.232657Z"
    },
    "trusted": true
   },
   "outputs": [],
   "source": [
    "test_df.isnull().sum()"
   ]
  },
  {
   "cell_type": "code",
   "execution_count": null,
   "metadata": {
    "execution": {
     "iopub.execute_input": "2024-12-10T00:29:15.249876Z",
     "iopub.status.busy": "2024-12-10T00:29:15.249529Z",
     "iopub.status.idle": "2024-12-10T00:29:15.318145Z",
     "shell.execute_reply": "2024-12-10T00:29:15.3172Z",
     "shell.execute_reply.started": "2024-12-10T00:29:15.249848Z"
    },
    "trusted": true
   },
   "outputs": [],
   "source": [
    "test_df.duplicated().sum()"
   ]
  },
  {
   "cell_type": "code",
   "execution_count": null,
   "metadata": {
    "execution": {
     "iopub.execute_input": "2024-12-10T00:29:15.319699Z",
     "iopub.status.busy": "2024-12-10T00:29:15.319396Z",
     "iopub.status.idle": "2024-12-10T00:29:15.793643Z",
     "shell.execute_reply": "2024-12-10T00:29:15.792667Z",
     "shell.execute_reply.started": "2024-12-10T00:29:15.319671Z"
    },
    "trusted": true
   },
   "outputs": [],
   "source": [
    "evaluation_df = pd.read_csv(\"data/evaluation.csv\",delimiter=';')\n",
    "evaluation_df.drop('Unnamed: 0',axis=1,inplace=True)\n",
    "evaluation_df.head()"
   ]
  },
  {
   "cell_type": "code",
   "execution_count": null,
   "metadata": {
    "execution": {
     "iopub.execute_input": "2024-12-10T00:29:15.794846Z",
     "iopub.status.busy": "2024-12-10T00:29:15.7946Z",
     "iopub.status.idle": "2024-12-10T00:29:15.800706Z",
     "shell.execute_reply": "2024-12-10T00:29:15.799716Z",
     "shell.execute_reply.started": "2024-12-10T00:29:15.79482Z"
    },
    "trusted": true
   },
   "outputs": [],
   "source": [
    "evaluation_df.shape"
   ]
  },
  {
   "cell_type": "code",
   "execution_count": null,
   "metadata": {
    "execution": {
     "iopub.execute_input": "2024-12-10T00:29:15.80194Z",
     "iopub.status.busy": "2024-12-10T00:29:15.801679Z",
     "iopub.status.idle": "2024-12-10T00:29:15.817862Z",
     "shell.execute_reply": "2024-12-10T00:29:15.816879Z",
     "shell.execute_reply.started": "2024-12-10T00:29:15.8019Z"
    },
    "trusted": true
   },
   "outputs": [],
   "source": [
    "evaluation_df.isna().sum()"
   ]
  },
  {
   "cell_type": "code",
   "execution_count": null,
   "metadata": {
    "execution": {
     "iopub.execute_input": "2024-12-10T00:29:15.819316Z",
     "iopub.status.busy": "2024-12-10T00:29:15.819034Z",
     "iopub.status.idle": "2024-12-10T00:29:15.888294Z",
     "shell.execute_reply": "2024-12-10T00:29:15.887325Z",
     "shell.execute_reply.started": "2024-12-10T00:29:15.819289Z"
    },
    "trusted": true
   },
   "outputs": [],
   "source": [
    "evaluation_df.duplicated().sum()"
   ]
  },
  {
   "cell_type": "markdown",
   "metadata": {},
   "source": [
    "## Data Exploration"
   ]
  },
  {
   "cell_type": "code",
   "execution_count": null,
   "metadata": {
    "execution": {
     "iopub.execute_input": "2024-12-10T00:29:15.889512Z",
     "iopub.status.busy": "2024-12-10T00:29:15.889262Z",
     "iopub.status.idle": "2024-12-10T00:29:15.912079Z",
     "shell.execute_reply": "2024-12-10T00:29:15.911188Z",
     "shell.execute_reply.started": "2024-12-10T00:29:15.889485Z"
    },
    "trusted": true
   },
   "outputs": [],
   "source": [
    "train_df['num_words'] = train_df.text.apply(len)\n",
    "train_df.num_words.describe()"
   ]
  },
  {
   "cell_type": "code",
   "execution_count": null,
   "metadata": {
    "execution": {
     "iopub.execute_input": "2024-12-10T00:29:15.914093Z",
     "iopub.status.busy": "2024-12-10T00:29:15.913395Z",
     "iopub.status.idle": "2024-12-10T00:29:16.443372Z",
     "shell.execute_reply": "2024-12-10T00:29:16.442396Z",
     "shell.execute_reply.started": "2024-12-10T00:29:15.914048Z"
    },
    "trusted": true
   },
   "outputs": [],
   "source": [
    "plt.figure(figsize=(10,5))\n",
    "sns.distplot(train_df['num_words']);"
   ]
  },
  {
   "cell_type": "code",
   "execution_count": 5,
   "metadata": {
    "execution": {
     "iopub.execute_input": "2024-12-10T00:29:16.444854Z",
     "iopub.status.busy": "2024-12-10T00:29:16.44456Z",
     "iopub.status.idle": "2024-12-10T00:29:16.449496Z",
     "shell.execute_reply": "2024-12-10T00:29:16.448376Z",
     "shell.execute_reply.started": "2024-12-10T00:29:16.444824Z"
    },
    "trusted": true
   },
   "outputs": [],
   "source": [
    "max_len = 120"
   ]
  },
  {
   "cell_type": "code",
   "execution_count": null,
   "metadata": {
    "execution": {
     "iopub.execute_input": "2024-12-10T00:29:16.450811Z",
     "iopub.status.busy": "2024-12-10T00:29:16.450547Z",
     "iopub.status.idle": "2024-12-10T00:29:47.454881Z",
     "shell.execute_reply": "2024-12-10T00:29:47.453905Z",
     "shell.execute_reply.started": "2024-12-10T00:29:16.450784Z"
    },
    "trusted": true
   },
   "outputs": [],
   "source": [
    "plt.figure(figsize=(12,6))\n",
    "wc = WordCloud(width=600,height=300,random_state=101).generate(' '.join(train_df.text))\n",
    "plt.imshow(wc)\n",
    "plt.title('Word Cloud of News Text',fontsize=25,pad=20,fontweight='bold',color='sienna')\n",
    "plt.show();"
   ]
  },
  {
   "cell_type": "code",
   "execution_count": null,
   "metadata": {
    "execution": {
     "iopub.execute_input": "2024-12-10T00:29:47.456614Z",
     "iopub.status.busy": "2024-12-10T00:29:47.456255Z",
     "iopub.status.idle": "2024-12-10T00:29:47.606727Z",
     "shell.execute_reply": "2024-12-10T00:29:47.605706Z",
     "shell.execute_reply.started": "2024-12-10T00:29:47.456575Z"
    },
    "trusted": true
   },
   "outputs": [],
   "source": [
    "plt.figure(figsize=(10,5))\n",
    "sns.countplot(x='label',data=train_df);"
   ]
  },
  {
   "cell_type": "markdown",
   "metadata": {},
   "source": [
    "The target fake news label is relatively balanced."
   ]
  },
  {
   "cell_type": "markdown",
   "metadata": {},
   "source": [
    "## Text Preprocessing"
   ]
  },
  {
   "cell_type": "code",
   "execution_count": null,
   "metadata": {
    "execution": {
     "iopub.execute_input": "2024-12-10T00:29:47.608271Z",
     "iopub.status.busy": "2024-12-10T00:29:47.60785Z",
     "iopub.status.idle": "2024-12-10T00:29:47.614964Z",
     "shell.execute_reply": "2024-12-10T00:29:47.614113Z",
     "shell.execute_reply.started": "2024-12-10T00:29:47.608231Z"
    },
    "trusted": true
   },
   "outputs": [],
   "source": [
    "def preprocess_text(data,col):\n",
    "    data[col] = data[col].apply(func=lower)\n",
    "    data[col] = data[col].apply(func=clean_html)\n",
    "    data[col] = data[col].apply(func=non_ascii)\n",
    "    data[col] = data[col].apply(func=email_address)\n",
    "    data[col] = data[col].apply(func=punct)\n",
    "    data[col] = data[col].apply(func=removeStopWords)\n",
    "    data[col] = data[col].apply(func=remove_)\n",
    "    data[col] = data[col].apply(func=remove_digits)\n",
    "    data[col] = data[col].apply(func=remove_links)\n",
    "    data[col] = data[col].apply(func=remove_special_characters)\n",
    "    return data\n",
    "    "
   ]
  },
  {
   "cell_type": "code",
   "execution_count": null,
   "metadata": {
    "execution": {
     "iopub.execute_input": "2024-12-10T00:29:47.616235Z",
     "iopub.status.busy": "2024-12-10T00:29:47.61589Z",
     "iopub.status.idle": "2024-12-10T00:30:19.535495Z",
     "shell.execute_reply": "2024-12-10T00:30:19.534646Z",
     "shell.execute_reply.started": "2024-12-10T00:29:47.616195Z"
    },
    "trusted": true
   },
   "outputs": [],
   "source": [
    "preprocessed_train = preprocess_text(train_df,'text')\n",
    "preprocessed_test = preprocess_text(test_df,'text')\n",
    "preprocessed_eval = preprocess_text(evaluation_df,'text')"
   ]
  },
  {
   "cell_type": "markdown",
   "metadata": {},
   "source": [
    "## Downloading pretrained Tokenizer and BERT model from Hugging Face"
   ]
  },
  {
   "cell_type": "code",
   "execution_count": 5,
   "metadata": {
    "execution": {
     "iopub.execute_input": "2024-12-10T00:30:19.536943Z",
     "iopub.status.busy": "2024-12-10T00:30:19.536615Z",
     "iopub.status.idle": "2024-12-10T00:30:22.292755Z",
     "shell.execute_reply": "2024-12-10T00:30:22.291754Z",
     "shell.execute_reply.started": "2024-12-10T00:30:19.536898Z"
    },
    "trusted": true
   },
   "outputs": [
    {
     "name": "stderr",
     "output_type": "stream",
     "text": [
      "2025-04-02 08:05:52.362831: W tensorflow/stream_executor/platform/default/dso_loader.cc:64] Could not load dynamic library 'libcuda.so.1'; dlerror: libcuda.so.1: cannot open shared object file: No such file or directory\n",
      "2025-04-02 08:05:52.364488: W tensorflow/stream_executor/cuda/cuda_driver.cc:263] failed call to cuInit: UNKNOWN ERROR (303)\n",
      "2025-04-02 08:05:52.364552: I tensorflow/stream_executor/cuda/cuda_diagnostics.cc:156] kernel driver does not appear to be running on this host (artefact-de-vm-wissem0072): /proc/driver/nvidia/version does not exist\n",
      "2025-04-02 08:05:52.367576: I tensorflow/core/platform/cpu_feature_guard.cc:193] This TensorFlow binary is optimized with oneAPI Deep Neural Network Library (oneDNN) to use the following CPU instructions in performance-critical operations:  AVX2 FMA\n",
      "To enable them in other operations, rebuild TensorFlow with the appropriate compiler flags.\n",
      "Some weights of the PyTorch model were not used when initializing the TF 2.0 model TFBertForSequenceClassification: ['bert.embeddings.position_ids']\n",
      "- This IS expected if you are initializing TFBertForSequenceClassification from a PyTorch model trained on another task or with another architecture (e.g. initializing a TFBertForSequenceClassification model from a BertForPreTraining model).\n",
      "- This IS NOT expected if you are initializing TFBertForSequenceClassification from a PyTorch model that you expect to be exactly identical (e.g. initializing a TFBertForSequenceClassification model from a BertForSequenceClassification model).\n",
      "All the weights of TFBertForSequenceClassification were initialized from the PyTorch model.\n",
      "If your task is similar to the task the model of the checkpoint was trained on, you can already use TFBertForSequenceClassification for predictions without further training.\n"
     ]
    }
   ],
   "source": [
    "model_name = 'mrm8488/bert-tiny-finetuned-fake-news-detection'\n",
    "tokenizer = AutoTokenizer.from_pretrained(model_name)\n",
    "bert = TFAutoModelForSequenceClassification.from_pretrained(model_name,from_pt=True)"
   ]
  },
  {
   "cell_type": "markdown",
   "metadata": {},
   "source": [
    "## Performing text tokenization"
   ]
  },
  {
   "cell_type": "code",
   "execution_count": null,
   "metadata": {
    "execution": {
     "iopub.execute_input": "2024-12-10T00:30:22.294325Z",
     "iopub.status.busy": "2024-12-10T00:30:22.294017Z",
     "iopub.status.idle": "2024-12-10T00:30:41.809283Z",
     "shell.execute_reply": "2024-12-10T00:30:41.808335Z",
     "shell.execute_reply.started": "2024-12-10T00:30:22.294295Z"
    },
    "trusted": true
   },
   "outputs": [],
   "source": [
    "X_train = tokenizer(text=preprocessed_train.text.tolist(),\n",
    "                   max_length=max_len,\n",
    "                   padding=True,\n",
    "                   truncation=True,\n",
    "                   add_special_tokens=True,\n",
    "                   return_token_type_ids=False,\n",
    "                   return_attention_mask=True,\n",
    "                   return_tensors='tf',\n",
    "                   verbose=1)\n",
    "\n",
    "X_test = tokenizer(text=preprocessed_test.text.tolist(),\n",
    "                  max_length=max_len,\n",
    "                  padding=True,\n",
    "                  truncation=True,\n",
    "                  add_special_tokens=True,\n",
    "                  return_token_type_ids=False,\n",
    "                  return_attention_mask=True,\n",
    "                  return_tensors='tf',\n",
    "                  verbose=1)\n",
    "\n",
    "X_eval = tokenizer(text=preprocessed_eval.text.tolist(),\n",
    "                  max_length=max_len,\n",
    "                  padding=True,\n",
    "                  truncation=True,\n",
    "                  add_special_tokens=True,\n",
    "                  return_token_type_ids=False,\n",
    "                  return_attention_mask=True,\n",
    "                  return_tensors='tf',\n",
    "                  verbose=1)\n",
    "\n"
   ]
  },
  {
   "cell_type": "code",
   "execution_count": null,
   "metadata": {},
   "outputs": [],
   "source": [
    "print(X_train)\n"
   ]
  },
  {
   "cell_type": "markdown",
   "metadata": {},
   "source": [
    "## Encoding the target label classes"
   ]
  },
  {
   "cell_type": "code",
   "execution_count": null,
   "metadata": {
    "execution": {
     "iopub.execute_input": "2024-12-10T00:30:41.811032Z",
     "iopub.status.busy": "2024-12-10T00:30:41.810672Z",
     "iopub.status.idle": "2024-12-10T00:30:41.819348Z",
     "shell.execute_reply": "2024-12-10T00:30:41.818595Z",
     "shell.execute_reply.started": "2024-12-10T00:30:41.811001Z"
    },
    "trusted": true
   },
   "outputs": [],
   "source": [
    "scaler = LabelEncoder()\n",
    "train_df.label = scaler.fit_transform(train_df.label)\n",
    "test_df.label = scaler.transform(test_df.label)\n",
    "evaluation_df.label = scaler.transform(evaluation_df.label)"
   ]
  },
  {
   "cell_type": "markdown",
   "metadata": {},
   "source": [
    "## Model Training & Evaluation"
   ]
  },
  {
   "cell_type": "code",
   "execution_count": null,
   "metadata": {
    "execution": {
     "iopub.execute_input": "2024-12-10T00:30:41.821082Z",
     "iopub.status.busy": "2024-12-10T00:30:41.820691Z",
     "iopub.status.idle": "2024-12-10T00:30:41.833628Z",
     "shell.execute_reply": "2024-12-10T00:30:41.832615Z",
     "shell.execute_reply.started": "2024-12-10T00:30:41.821035Z"
    },
    "trusted": true
   },
   "outputs": [],
   "source": [
    "input_ids = Input(shape=(max_len,),dtype=tf.int32,name='input_ids')\n",
    "attention_mask = Input(shape=(max_len,),dtype=tf.int32,name='attention_mask')"
   ]
  },
  {
   "cell_type": "code",
   "execution_count": null,
   "metadata": {
    "execution": {
     "iopub.execute_input": "2024-12-10T00:30:41.83503Z",
     "iopub.status.busy": "2024-12-10T00:30:41.834714Z",
     "iopub.status.idle": "2024-12-10T00:30:45.516875Z",
     "shell.execute_reply": "2024-12-10T00:30:45.515889Z",
     "shell.execute_reply.started": "2024-12-10T00:30:41.835002Z"
    },
    "trusted": true
   },
   "outputs": [],
   "source": [
    "embeddings = bert(input_ids,attention_mask=attention_mask)[0] # 0 -> final hidden state, 1 -> pooling output\n",
    "output = Flatten()(embeddings)\n",
    "output = Dense(units=512,activation='relu')(output)\n",
    "output = BatchNormalization()(output)\n",
    "output = Dropout(0.3)(output)\n",
    "output = Dense(units=256,activation='relu')(output)\n",
    "output = BatchNormalization()(output)\n",
    "output = Dropout(0.2)(output)\n",
    "output = Dense(units=128,activation='relu')(output)\n",
    "output = BatchNormalization()(output)\n",
    "output = Dropout(0.15)(output)\n",
    "output = Dense(units=1,activation='sigmoid')(output)\n",
    "model = Model(inputs=[input_ids,attention_mask],outputs=output)\n",
    "model.layers[2].trainable = False\n",
    "model.summary()"
   ]
  },
  {
   "cell_type": "code",
   "execution_count": null,
   "metadata": {
    "execution": {
     "iopub.execute_input": "2024-12-10T00:32:21.632322Z",
     "iopub.status.busy": "2024-12-10T00:32:21.631907Z",
     "iopub.status.idle": "2024-12-10T00:32:22.339619Z",
     "shell.execute_reply": "2024-12-10T00:32:22.338371Z",
     "shell.execute_reply.started": "2024-12-10T00:32:21.632292Z"
    },
    "trusted": true
   },
   "outputs": [],
   "source": [
    "plot_model(model,to_file='model.png',show_shapes=True,dpi=100)"
   ]
  },
  {
   "cell_type": "code",
   "execution_count": null,
   "metadata": {
    "execution": {
     "iopub.execute_input": "2024-12-10T00:33:46.196166Z",
     "iopub.status.busy": "2024-12-10T00:33:46.195779Z",
     "iopub.status.idle": "2024-12-10T00:33:46.214969Z",
     "shell.execute_reply": "2024-12-10T00:33:46.214089Z",
     "shell.execute_reply.started": "2024-12-10T00:33:46.196132Z"
    },
    "trusted": true
   },
   "outputs": [],
   "source": [
    "optimizer = Adam(learning_rate=4e-5,epsilon=1e-7,decay=1e-2,clipnorm=1.0)\n",
    "model.compile(loss='binary_crossentropy',optimizer=optimizer,metrics=['accuracy'])"
   ]
  },
  {
   "cell_type": "code",
   "execution_count": null,
   "metadata": {
    "execution": {
     "iopub.execute_input": "2024-12-10T00:38:02.334527Z",
     "iopub.status.busy": "2024-12-10T00:38:02.333394Z",
     "iopub.status.idle": "2024-12-10T01:03:24.178109Z",
     "shell.execute_reply": "2024-12-10T01:03:24.177014Z",
     "shell.execute_reply.started": "2024-12-10T00:38:02.334489Z"
    },
    "trusted": true
   },
   "outputs": [],
   "source": [
    "es = EarlyStopping(monitor='val_accuracy',mode='max',patience=10,restore_best_weights=True,verbose=1)\n",
    "lrs = LearningRateScheduler(step_decay,verbose=1)\n",
    "mc = ModelCheckpoint(filepath='fake_news_classifier.keras',monitor='val_accuracy',save_best_only=True,mode='max',save_freq='epoch',verbose=1)\n",
    "\n",
    "r = model.fit(x={'input_ids': X_train['input_ids'], 'attention_mask': X_train['attention_mask']},\n",
    "             y=train_df.label,\n",
    "             epochs=20,\n",
    "             batch_size=256,\n",
    "             callbacks=[es,lrs,mc],\n",
    "             validation_data=({'input_ids': X_test['input_ids'], 'attention_mask': X_test['attention_mask']},test_df.label)\n",
    "             )"
   ]
  },
  {
   "cell_type": "code",
   "execution_count": null,
   "metadata": {
    "execution": {
     "iopub.execute_input": "2024-12-10T00:35:14.246019Z",
     "iopub.status.busy": "2024-12-10T00:35:14.245124Z",
     "iopub.status.idle": "2024-12-10T00:35:14.250693Z",
     "shell.execute_reply": "2024-12-10T00:35:14.249621Z",
     "shell.execute_reply.started": "2024-12-10T00:35:14.245979Z"
    },
    "trusted": true
   },
   "outputs": [],
   "source": [
    "def step_decay(epoch, lr):\n",
    "    drop_rate = 0.5\n",
    "    step_size = 10\n",
    "    return lr * drop_rate ** (epoch // step_size)"
   ]
  },
  {
   "cell_type": "markdown",
   "metadata": {},
   "source": [
    "## Visualizing model performance"
   ]
  },
  {
   "cell_type": "code",
   "execution_count": null,
   "metadata": {
    "execution": {
     "iopub.execute_input": "2024-12-10T01:03:37.620858Z",
     "iopub.status.busy": "2024-12-10T01:03:37.620446Z",
     "iopub.status.idle": "2024-12-10T01:03:37.90478Z",
     "shell.execute_reply": "2024-12-10T01:03:37.90379Z",
     "shell.execute_reply.started": "2024-12-10T01:03:37.620824Z"
    },
    "trusted": true
   },
   "outputs": [],
   "source": [
    "plt.plot(r.history['loss'],'r',label='train loss')\n",
    "plt.plot(r.history['val_loss'],'b',label='test loss')\n",
    "plt.xlabel('Number of Epochs')\n",
    "plt.ylabel('Binary Crossentropy Loss')\n",
    "plt.title('Loss Graph')\n",
    "plt.legend()\n",
    "plt.show();"
   ]
  },
  {
   "cell_type": "code",
   "execution_count": null,
   "metadata": {
    "execution": {
     "iopub.execute_input": "2024-12-10T01:03:47.96844Z",
     "iopub.status.busy": "2024-12-10T01:03:47.967777Z",
     "iopub.status.idle": "2024-12-10T01:03:48.24624Z",
     "shell.execute_reply": "2024-12-10T01:03:48.245216Z",
     "shell.execute_reply.started": "2024-12-10T01:03:47.968406Z"
    },
    "trusted": true
   },
   "outputs": [],
   "source": [
    "plt.plot(r.history['accuracy'],'r',label='train accuracy')\n",
    "plt.plot(r.history['val_accuracy'],'b',label='test accuracy')\n",
    "plt.xlabel('Number of Epochs')\n",
    "plt.ylabel('Accuracy')\n",
    "plt.title('Accuracy Graph')\n",
    "plt.legend()\n",
    "plt.show();"
   ]
  },
  {
   "cell_type": "markdown",
   "metadata": {},
   "source": [
    "## Evaluating model on the test dataset"
   ]
  },
  {
   "cell_type": "code",
   "execution_count": null,
   "metadata": {
    "execution": {
     "iopub.execute_input": "2024-12-10T01:03:54.819514Z",
     "iopub.status.busy": "2024-12-10T01:03:54.818658Z",
     "iopub.status.idle": "2024-12-10T01:04:09.40066Z",
     "shell.execute_reply": "2024-12-10T01:04:09.399843Z",
     "shell.execute_reply.started": "2024-12-10T01:03:54.819472Z"
    },
    "trusted": true
   },
   "outputs": [],
   "source": [
    "loss, acc = model.evaluate({'input_ids': X_test['input_ids'], 'attention_mask': X_test['attention_mask']},test_df.label)\n",
    "print(\"Test Binary Crossentropy Loss:\", round(loss,2))\n",
    "print(\"Test Accuracy:\", round(acc*100,2))"
   ]
  },
  {
   "cell_type": "code",
   "execution_count": null,
   "metadata": {
    "execution": {
     "iopub.execute_input": "2024-12-10T01:08:04.578286Z",
     "iopub.status.busy": "2024-12-10T01:08:04.577873Z",
     "iopub.status.idle": "2024-12-10T01:08:19.890979Z",
     "shell.execute_reply": "2024-12-10T01:08:19.89011Z",
     "shell.execute_reply.started": "2024-12-10T01:08:04.578252Z"
    },
    "trusted": true
   },
   "outputs": [],
   "source": [
    "test_predictions = model.predict({'input_ids': X_test['input_ids'], 'attention_mask': X_test['attention_mask']})\n",
    "test_predictions = (test_predictions > 0.5).astype('float')\n",
    "print(\"Confusion Matrix:\")\n",
    "print(confusion_matrix(test_df.label,test_predictions))\n",
    "print(\"Classification Report:\")\n",
    "print(classification_report(test_df.label,test_predictions))\n",
    "ConfusionMatrixDisplay.from_predictions(test_df.label,test_predictions)\n",
    "plt.show()\n",
    "PrecisionRecallDisplay.from_predictions(test_df.label,test_predictions)\n",
    "plt.show()\n",
    "RocCurveDisplay.from_predictions(test_df.label,test_predictions)\n",
    "plt.show()"
   ]
  },
  {
   "cell_type": "markdown",
   "metadata": {},
   "source": [
    "## Model Inference"
   ]
  },
  {
   "cell_type": "code",
   "execution_count": null,
   "metadata": {
    "execution": {
     "iopub.execute_input": "2024-12-10T01:09:54.010151Z",
     "iopub.status.busy": "2024-12-10T01:09:54.009509Z",
     "iopub.status.idle": "2024-12-10T01:10:10.362208Z",
     "shell.execute_reply": "2024-12-10T01:10:10.361341Z",
     "shell.execute_reply.started": "2024-12-10T01:09:54.010117Z"
    },
    "trusted": true
   },
   "outputs": [],
   "source": [
    "test_predictions = model.predict({'input_ids': X_eval['input_ids'], 'attention_mask': X_eval['attention_mask']})\n",
    "test_predictions = (test_predictions > 0.5).astype('float')\n",
    "print(\"Confusion Matrix:\")\n",
    "print(confusion_matrix(evaluation_df.label,test_predictions))\n",
    "print(\"Classification Report:\")\n",
    "print(classification_report(evaluation_df.label,test_predictions))\n",
    "ConfusionMatrixDisplay.from_predictions(evaluation_df.label,test_predictions)\n",
    "plt.show()\n",
    "PrecisionRecallDisplay.from_predictions(evaluation_df.label,test_predictions)\n",
    "plt.show()\n",
    "RocCurveDisplay.from_predictions(evaluation_df.label,test_predictions)\n",
    "plt.show()"
   ]
  },
  {
   "cell_type": "markdown",
   "metadata": {},
   "source": [
    "Bravo! The model has performed incredibly well by achieving an astonishing accuracy of more than 97% on the evaluation holdout set.\n",
    "\n",
    "Don't forget to upvote my notebook if you like it! If you have any feedback, kindly share it in the comments section below."
   ]
  },
  {
   "cell_type": "code",
   "execution_count": null,
   "metadata": {
    "execution": {
     "iopub.execute_input": "2024-12-10T01:24:22.181661Z",
     "iopub.status.busy": "2024-12-10T01:24:22.181312Z",
     "iopub.status.idle": "2024-12-10T01:24:22.204912Z",
     "shell.execute_reply": "2024-12-10T01:24:22.203969Z",
     "shell.execute_reply.started": "2024-12-10T01:24:22.181631Z"
    },
    "trusted": true
   },
   "outputs": [],
   "source": [
    "tokenizer.save_pretrained(save_directory='tokenizer/') # Saving the pretrained tokenizer"
   ]
  },
  {
   "cell_type": "code",
   "execution_count": null,
   "metadata": {
    "vscode": {
     "languageId": "markdown"
    }
   },
   "outputs": [],
   "source": [
    "The error occurs because the directory `tokenizer/` does not contain the necessary configuration files (`config.json`) or the correct model files required to load a model using `TFAutoModelForSequenceClassification`. The `tokenizer.save_pretrained()` method only saves the tokenizer, not the model itself.\n",
    "\n",
    "To load the tokenizer, you can use the `from_pretrained` method of the `AutoTokenizer` class. Here's how you can do it:\n",
    "\n",
    "To load the tokenizer:\n",
    "1. If you have saved the tokenizer in a directory (e.g., `tokenizer/`), you can load it as follows:\n",
    "    ```python\n",
    "    tokenizer = AutoTokenizer.from_pretrained('tokenizer/')\n",
    "    ```\n",
    "\n",
    "2. If you want to load it directly from the model name used earlier:\n",
    "    ```python\n",
    "    tokenizer = AutoTokenizer.from_pretrained(model_name)\n",
    "    ```\n"
   ]
  },
  {
   "cell_type": "code",
   "execution_count": null,
   "metadata": {},
   "outputs": [],
   "source": [
    "bert.save_pretrained(save_directory='model/')"
   ]
  },
  {
   "cell_type": "code",
   "execution_count": 16,
   "metadata": {},
   "outputs": [
    {
     "name": "stderr",
     "output_type": "stream",
     "text": [
      "Some layers from the model checkpoint at model/ were not used when initializing TFBertForSequenceClassification: ['dropout_7']\n",
      "- This IS expected if you are initializing TFBertForSequenceClassification from the checkpoint of a model trained on another task or with another architecture (e.g. initializing a BertForSequenceClassification model from a BertForPreTraining model).\n",
      "- This IS NOT expected if you are initializing TFBertForSequenceClassification from the checkpoint of a model that you expect to be exactly identical (initializing a BertForSequenceClassification model from a BertForSequenceClassification model).\n",
      "All the layers of TFBertForSequenceClassification were initialized from the model checkpoint at model/.\n",
      "If your task is similar to the task the model of the checkpoint was trained on, you can already use TFBertForSequenceClassification for predictions without further training.\n"
     ]
    }
   ],
   "source": [
    "loaded_model = TFAutoModelForSequenceClassification.from_pretrained('model/')\n"
   ]
  },
  {
   "cell_type": "code",
   "execution_count": null,
   "metadata": {},
   "outputs": [
    {
     "name": "stdout",
     "output_type": "stream",
     "text": [
      "1/1 [==============================] - 0s 28ms/step\n",
      "[[1. 0.]]\n"
     ]
    }
   ],
   "source": [
    "def predict_text(text):\n",
    "    tokenized_input = tokenizer(text=text,\n",
    "                                max_length=max_len,\n",
    "                                padding=True,\n",
    "                                truncation=True,\n",
    "                                add_special_tokens=True,\n",
    "                                return_token_type_ids=False,\n",
    "                                return_attention_mask=True,\n",
    "                                return_tensors='tf',\n",
    "                                verbose=1)\n",
    "    prediction = loaded_model.predict({'input_ids': tokenized_input['input_ids'], 'attention_mask': tokenized_input['attention_mask']})\n",
    "    return (prediction.logits > 0.5).astype('float')\n",
    "prediction_final = predict_text(\"SACRAMENTO, Calif. (Reuters) - California Governor Jerry Brown on Thursday nominated U.S. Congressman Xavier Becerra to be attorney general, a high-powered pick that signals the state‚Äôs readiness to defend its progressive policies as Republicans consolidate power in Washington.\")\n",
    "print(prediction_final)   "
   ]
  },
  {
   "cell_type": "code",
   "execution_count": 38,
   "metadata": {},
   "outputs": [
    {
     "name": "stdout",
     "output_type": "stream",
     "text": [
      "{'score': 0.9673226, 'prediction': 'REAL NEWS'}\n"
     ]
    }
   ],
   "source": [
    "import numpy as np\n",
    "import tensorflow as tf\n",
    "\n",
    "def predict_text(text, threshold=0.5):\n",
    "    \"\"\"\n",
    "    Prédiction sur un texte donné avec le modèle NLP chargé.\n",
    "    :param text: Texte à analyser\n",
    "    :param threshold: Seuil de classification (0.5 par défaut)\n",
    "    :return: Score de probabilité et classe (Fake News ou Non)\n",
    "    \"\"\"\n",
    "    # Tokenisation\n",
    "    tokenized_input = tokenizer(text=text,\n",
    "                                max_length=max_len,\n",
    "                                padding=\"max_length\",\n",
    "                                truncation=True,\n",
    "                                return_tensors='tf')\n",
    "\n",
    "    # Prédiction\n",
    "    prediction = loaded_model(tokenized_input)\n",
    "\n",
    "    # Application de la fonction sigmoid (si nécessaire)\n",
    "    scores = tf.nn.sigmoid(prediction.logits).numpy()\n",
    "\n",
    "    # Conversion en classe binaire\n",
    "    predicted_class = (scores > threshold).astype(int)\n",
    "\n",
    "    return {\"score\": scores[0][0], \"prediction\": \"FAKE NEWS\" if predicted_class[0][0] == 0 else \"REAL NEWS\"}\n",
    "\n",
    "# Exemple d'utilisation\n",
    "text_example = \"WASHINGTON (Reuters) - U.S. Director of National Intelligence Dan Coats declined to say whether President Donald Trump asked him to help deny any collusion between his campaign team and Russia, as reported by the Washington Post, saying his talks with Trump were private. ‚ÄúOn this topic, as well as other topics, I don‚Äôt feel it‚Äôs appropriate to characterize discussions and conversations with the president,‚Äù Coats said about the alleged request. He was speaking at a hearing before the Senate Armed Services Committee.\"\n",
    "result = predict_text(text_example)\n",
    "print(result)\n"
   ]
  },
  {
   "cell_type": "code",
   "execution_count": 13,
   "metadata": {},
   "outputs": [
    {
     "name": "stderr",
     "output_type": "stream",
     "text": [
      "Some layers from the model checkpoint at model were not used when initializing TFBertForSequenceClassification: ['dropout_7']\n",
      "- This IS expected if you are initializing TFBertForSequenceClassification from the checkpoint of a model trained on another task or with another architecture (e.g. initializing a BertForSequenceClassification model from a BertForPreTraining model).\n",
      "- This IS NOT expected if you are initializing TFBertForSequenceClassification from the checkpoint of a model that you expect to be exactly identical (initializing a BertForSequenceClassification model from a BertForSequenceClassification model).\n",
      "All the layers of TFBertForSequenceClassification were initialized from the model checkpoint at model.\n",
      "If your task is similar to the task the model of the checkpoint was trained on, you can already use TFBertForSequenceClassification for predictions without further training.\n"
     ]
    },
    {
     "name": "stdout",
     "output_type": "stream",
     "text": [
      "{'score': 0.9673226, 'prediction': 'REAL NEWS'}\n"
     ]
    }
   ],
   "source": [
    "# Chargement du modèle et du tokenizer\n",
    "tokenizer = AutoTokenizer.from_pretrained(\"tokenizer\")\n",
    "loaded_model = TFAutoModelForSequenceClassification.from_pretrained(\"model\")\n",
    "# Chargement du tokenizer\n",
    "def predict_text(text, threshold=0.5):\n",
    "    \"\"\"\n",
    "    Prédiction sur un texte donné avec le modèle NLP chargé.\n",
    "    :param text: Texte à analyser\n",
    "    :param threshold: Seuil de classification (0.5 par défaut)\n",
    "    :return: Score de probabilité et classe (Fake News ou Non)\n",
    "    \"\"\"\n",
    "    # Tokenisation\n",
    "    tokenized_input = tokenizer(text=text,\n",
    "                                max_length=max_len,\n",
    "                                padding=\"max_length\",\n",
    "                                truncation=True,\n",
    "                                return_tensors='tf')\n",
    "\n",
    "    # Prédiction\n",
    "    prediction = loaded_model(tokenized_input)\n",
    "\n",
    "    # Application de la fonction sigmoid (si nécessaire)\n",
    "    scores = tf.nn.sigmoid(prediction.logits).numpy()\n",
    "\n",
    "    # Conversion en classe binaire\n",
    "    predicted_class = (scores > threshold).astype(int)\n",
    "\n",
    "    return {\"score\": scores[0][0], \"prediction\": \"FAKE NEWS\" if predicted_class[0][0] == 0 else \"REAL NEWS\"}\n",
    "\n",
    "# Exemple d'utilisation\n",
    "text_example = \"WASHINGTON (Reuters) - U.S. Director of National Intelligence Dan Coats declined to say whether President Donald Trump asked him to help deny any collusion between his campaign team and Russia, as reported by the Washington Post, saying his talks with Trump were private. ‚ÄúOn this topic, as well as other topics, I don‚Äôt feel it‚Äôs appropriate to characterize discussions and conversations with the president,‚Äù Coats said about the alleged request. He was speaking at a hearing before the Senate Armed Services Committee.\"\n",
    "result = predict_text(text_example)\n",
    "print(result)\n"
   ]
  }
 ],
 "metadata": {
  "kaggle": {
   "accelerator": "none",
   "dataSources": [
    {
     "datasetId": 5926278,
     "sourceId": 9693156,
     "sourceType": "datasetVersion"
    }
   ],
   "dockerImageVersionId": 30804,
   "isGpuEnabled": false,
   "isInternetEnabled": false,
   "language": "python",
   "sourceType": "notebook"
  },
  "kernelspec": {
   "display_name": "fake_news_env",
   "language": "python",
   "name": "python3"
  },
  "language_info": {
   "codemirror_mode": {
    "name": "ipython",
    "version": 3
   },
   "file_extension": ".py",
   "mimetype": "text/x-python",
   "name": "python",
   "nbconvert_exporter": "python",
   "pygments_lexer": "ipython3",
   "version": "3.10.12"
  }
 },
 "nbformat": 4,
 "nbformat_minor": 4
}
